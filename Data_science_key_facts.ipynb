{
  "nbformat": 4,
  "nbformat_minor": 0,
  "metadata": {
    "colab": {
      "name": "Data science key facts.ipynb",
      "provenance": [],
      "include_colab_link": true
    },
    "kernelspec": {
      "name": "python3",
      "display_name": "Python 3"
    }
  },
  "cells": [
    {
      "cell_type": "markdown",
      "metadata": {
        "id": "view-in-github",
        "colab_type": "text"
      },
      "source": [
        "<a href=\"https://colab.research.google.com/github/noahgift/core-stats-datascience/blob/master/Data_science_key_facts.ipynb\" target=\"_parent\"><img src=\"https://colab.research.google.com/assets/colab-badge.svg\" alt=\"Open In Colab\"/></a>"
      ]
    },
    {
      "cell_type": "markdown",
      "metadata": {
        "id": "jyL-pl5Nm6-m",
        "colab_type": "text"
      },
      "source": [
        "# Data science key facts"
      ]
    },
    {
      "cell_type": "markdown",
      "metadata": {
        "id": "omkKdqi3nS95",
        "colab_type": "text"
      },
      "source": [
        "## Data science workflow"
      ]
    },
    {
      "cell_type": "markdown",
      "metadata": {
        "id": "8YwVmdSPnXmL",
        "colab_type": "text"
      },
      "source": [
        "### Ingest"
      ]
    },
    {
      "cell_type": "markdown",
      "metadata": {
        "id": "6ygLG-5VnXuD",
        "colab_type": "text"
      },
      "source": [
        ""
      ]
    },
    {
      "cell_type": "markdown",
      "metadata": {
        "id": "4SJ4H2AdnX3v",
        "colab_type": "text"
      },
      "source": [
        "### EDA"
      ]
    },
    {
      "cell_type": "markdown",
      "metadata": {
        "id": "-JE_LIxfncVN",
        "colab_type": "text"
      },
      "source": [
        ""
      ]
    },
    {
      "cell_type": "markdown",
      "metadata": {
        "id": "y6umVTQDncYc",
        "colab_type": "text"
      },
      "source": [
        "### Modeling"
      ]
    },
    {
      "cell_type": "markdown",
      "metadata": {
        "id": "O_5nQRlJncbQ",
        "colab_type": "text"
      },
      "source": [
        ""
      ]
    },
    {
      "cell_type": "markdown",
      "metadata": {
        "id": "jMFvQlbmnesD",
        "colab_type": "text"
      },
      "source": [
        "### Conclusion"
      ]
    },
    {
      "cell_type": "markdown",
      "metadata": {
        "id": "UBqZMeP7ngyv",
        "colab_type": "text"
      },
      "source": [
        ""
      ]
    }
  ]
}